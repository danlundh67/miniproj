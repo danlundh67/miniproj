{
 "cells": [
  {
   "cell_type": "markdown",
   "metadata": {},
   "source": [
    "# `Ansökan and FAQ exploration`"
   ]
  },
  {
   "cell_type": "code",
   "execution_count": 1,
   "metadata": {},
   "outputs": [
    {
     "data": {
      "text/plain": [
       "['1. Du skapar och lämnar in en ansökan',\n",
       " '2a. Vi gör behörighetsprövning',\n",
       " '2b. Om förkunskapskrav',\n",
       " '3. Vi kallar till Urvalsprov',\n",
       " '4. Samtliga sökande rangordnas utifrån poäng i Urvalet',\n",
       " '5. Beslutsunderlag till ledningsgruppen för beslut om antagning',\n",
       " '6. Antagningsbesked skickas ut',\n",
       " '7. Antagna måste svara och acceptera sin plats inom angiven tid',\n",
       " '8. Antagningen avslutas och en ”färdig” klass finns',\n",
       " '9. Information inför utbildningsstart',\n",
       " '10. Utbildningsstart']"
      ]
     },
     "execution_count": 1,
     "metadata": {},
     "output_type": "execute_result"
    }
   ],
   "source": [
    "from scraper import FaqScraper, ApplicationScraper\n",
    "\n",
    "application_scraper =  ApplicationScraper()\n",
    "application_scraper.application_steps\n"
   ]
  },
  {
   "cell_type": "code",
   "execution_count": 2,
   "metadata": {},
   "outputs": [
    {
     "data": {
      "text/plain": [
       "['Frontend Developer – Göteborg',\n",
       " 'Systemutvecklare – Objektorienterad Systemutveckling – Göteborg',\n",
       " 'Objektorienterad programmering med AI-kompetens, Halmstad – Malmö',\n",
       " 'Anläggningsingenjör med BIM-kompetens – Göteborg, Luleå',\n",
       " 'Byggnadsingenjör – Digitalt byggande – Luleå',\n",
       " 'Hållbarhet inom Byggsektorn – Distans',\n",
       " 'Inköp & Supply Management- Göteborg, Malmö, Växjö, Luleå (Distans)',\n",
       " 'Logistics Planner – Växjö',\n",
       " 'Säljare B2B – Halmstad/Växjö',\n",
       " 'Digital redovisningsekonom/-konsult med löneadministration – Luleå',\n",
       " 'Paralegal – Malmö']"
      ]
     },
     "execution_count": 2,
     "metadata": {},
     "output_type": "execute_result"
    }
   ],
   "source": [
    "application_scraper.available_educations"
   ]
  },
  {
   "cell_type": "code",
   "execution_count": 3,
   "metadata": {},
   "outputs": [
    {
     "data": {
      "text/plain": [
       "'Ansökan YH - så här går det till! Att söka en YH-utbildning är verkligen inte svårt. Det du ska tänka på är att lämna in din ansökan i tid, även om den inte är komplett. Det finns tid att skicka in dina bilagor efter sista ansökningsdag. Om du inte är behörig, har du tid på dig att bli det. Om du söker till våra IT-utbildningar och har all behörighet som efterfrågas men saknar kunskaper i programmering 1, kan du få gå en avgiftsfri förberedande kurs på distans under 4.v under våren. Du får mer info när du har skickat in din ansökan. Antagningsprocessen består av flera olika steg, men du kan vara lugn. När du bestämt dig för en utbildning och skickat in din ansökan så guidar vi och hjälper dig på vägen. Du kan läsa om ansökans alla steg här intill, och om du vill ha ytterligare information kan du kika närmare på länkarna här precis nedan.    Läs om behörighetsförberedande kurs i Programmering 1   Läs om behörighetsprov i Programmering 1   Läs mer om behörighetsförberedande kurs i Matematik 2/B   Läs mer om behörighetsprov i Matematik 2/B   Läs mer om behörighetsprov i Engelska 6   Fler frågor? Hitta svaren i vår FAQ'"
      ]
     },
     "execution_count": 3,
     "metadata": {},
     "output_type": "execute_result"
    }
   ],
   "source": [
    "application_scraper.description"
   ]
  },
  {
   "cell_type": "code",
   "execution_count": 4,
   "metadata": {},
   "outputs": [
    {
     "data": {
      "text/plain": [
       "{'Vilka utbildningar startar till hösten?': 'Använd filterfunktionen på startsidan för att se vilka utbildningar som startar.',\n",
       " 'När öppnar ansökan?': 'Vi öppnar ansökan i december för utbildningar som är inplanerade sedan tidigare. I januari/februari öppnar vi ansökan för nya utbildningsstarter. Anmäl ditt intresse så får du mail från oss om nya utbildningsstarter.',\n",
       " 'När är sista ansökningsdag?': 'Sista dag för att skicka in ansökan är den 19 maj. Vi granskar ansökningarna kontinuerligt och skickar en påminnelse om du behöver komplettera din ansökan.',\n",
       " 'Vad innebär Sen anmälan?': 'Det innebär att kan man bli antagen i mån av plats, efter det att samtliga som sökt i tid har bedömts och fått chansen.',\n",
       " 'När är sista dag för att komplettera ansökan?': 'Sista dag för komplettering är 9 juni för samtliga YH-program öppna för ansökan. När du ansöker i yh-antagning.se kan du se vilket datum som gäller för de utbildningar du ansöker till. Var noga med att skicka in din ansökan i rätt tid, och ange att du ska komplettera senare.',\n",
       " 'Kan man ansöka till flera utbildningar samtidigt?': 'Ja, det går utmärkt att söka till flera utbildningar.',\n",
       " 'Måste jag skriva ett personligt brev i min ansökan och berätta mer om mig själv?': 'Det kan vara trevligt, men det är inget som vi får använda som en del i bedömningen, varken för att bli behörig, eller för att på poäng i urvalet. Så det finns inget sådant krav.',\n",
       " 'Måste jag skicka med undertecknade intyg från arbetsgivare?': 'Om du ska ansöka via reell kompetens och vill hänvisa till tidigare anställningar krävs bevis på din arbetslivserfarenhet via någon form av intyg, som är undertecknat av en arbetsgivare.',\n",
       " 'Mina betyg finns på antagning.se, kan ni hämta där?': 'Nej, det finns tyvärr ingen samordning mellan dessa system. Du måste själv bifoga dina betyg och intyg via filer som laddas upp i ansökningswebben.',\n",
       " 'Hur många sökande brukar det vara?': 'Det skiljer väldigt mycket mellan utbildningarna. Till vissa utbildningar har vi flera hundra sökande, till andra har vi kanske bara 50. De flesta utbildningar har runt 30 utbildningsplatser. Hur söktrycket brukar se ut kan då få veta om du hör av dig via e-post till oss.',\n",
       " 'Kan man söka studiemedel hos CSN?': 'Ja, alla YH-utbildningar berättigar till studiemedel. Det är dock du själv som får sköta det. Vi är inte inblandade annat än att vi anger vilka som startar utbildningen och senare intygar att du följer utbildningstakten.',\n",
       " 'Hur blir man behörig?': 'Man kan bli behörig på två sätt. Antingen har man gymnasieutbildning och betyg i de kurser som krävs. Har man inte det, kan man ändå bli behörig, genom s.k. reell kompetens. Det innebär att du har gjort något annat i livet och på så sätt fått motsvarande de kunskaper man får via gymnasiebetyg. Oftast gäller det arbetslivserfarenhet, men det kan även vara betyg eller examen från någon annan utbildning. Vi gör en bedömning och föreslår det för ledningsgruppen för utbildningen, som i sin tur fattar beslut om antagning.',\n",
       " 'Vad händer om du inte är behörig?': 'Om du saknar behörighet via gymnasiestudier och betyg, har du tid på sig att komplettera kunskaper och betyg. För vissa av våra utbildningar kan du komplettera genom att gå våra avgiftsfria preparandkurser. Du får inbjudan att delta i preparandkurser när du ansökt till en utbildning hos oss.',\n",
       " 'Du kan också skriva i din ansökan att du vill bli bedömd på så kallad reell kompetens. Du behöver då motivera hur du anser att dina erfarenheter kompenserar för det du saknar från de formella behörighetskraven.': 'Utöver det, har vi en möjlighet att anta en mindre kvot sökande som inte är behöriga på något av dessa två sätt, men som vi bedömer ändå har en möjlighet att klara av utbildningen. Den bedömningen gör vår ledningsgrupp efter förslag från oss.',\n",
       " 'Om du inte är behörig, och inte kompletterar för att bli det, kan du inte bli antagen och du får då besked om det.': 'Måste jag göra urvalsprov?',\n",
       " '”Behörig” innebär att man har visat att man har de förkunskaper som krävs för att bli antagen. Är man inte behörig, kan man inte bli antagen. Behörighet är alltså ”Ja” eller ”Nej”. När vi sedan har en lista med många behöriga sökande (fler än antalet platser) då måste vi göra ett ”urval”. Urval är en slags rangordning av alla behöriga sökande. Här har vi då fler kriterier att bedöma, som ger lite olika poäng. Det kan skilja mellan utbildningarna.': 'Jag har betyg från kurser på högskola/universitet eller annan YH-utbildning. Kan jag tillgodoräkna mig det?',\n",
       " 'Tyvärr inte. För att bli behörig via formella betyg krävs inga betyg från andra eftergymnasiala studier. Dock kan sådana betyg vara ett sätt att styrka Reell kompetens. Men du får inga mer poäng i urvalet och rangordningen': 'Måste man ha arbetslivserfarenhet?',\n",
       " 'Man behöver inte ha arbetslivserfarenhet för att söka till våra utbildningar ifall man uppfyller behörighetskraven via betyg från gymnasiet. Gör man det, får man inget ”extra” för arbetslivserfarenhet. Om du inte har gymnasieexamen och rätt kurser/betyg, kan du behöva arbetslivserfarenhet för att bli behörig via s.k. Reell kompetens. Du får inga ”poäng” för arbetslivserfarenhet utan den är bara till för att bli behörig eller inte. Men har du gymnasieexamen och rätt betyg i kurser enligt särskilda behörighetskrav, krävs inga intyg från arbetslivet.': 'Vad är Urvalsprov?',\n",
       " 'När vi har många sökande och ska rangordna alla behöriga via ”urval”, har vi valt att göra det med hjälp av ett urvalsprov. Ett sådant prov kan ge extra poäng i rangordningen, och det ökar din chans att bli antagen. Du kan aldrig försämra dina chanser, bara få extra poäng som ger dig en högre placering i rangordningen. Provens utformning varierar mellan utbildningarna. Man kan normalt inte förbereda sig till proven på något sätt om vi t.ex. testar läsförståelse eller engelska. Ingår prov i matematik, kan man eventuellt repetera gymnasiematematik. Ingår Excel, kan man träna på grunder i Excel.': 'Jag har bokat in mig på urvalsprov men fått förhinder. Kan jag boka ett annat tillfälle?',\n",
       " 'Logga in i yh-antagning och boka om ditt prov till ett annat tillfälle.': 'Har ni intervjuer?',\n",
       " 'Nej, vi får inte använda sådana personliga och subjektiva instrument som ett led i urvalet. Därför gör vi inte heller några intervjuer.': 'Utöver det, har vi en möjlighet att anta en mindre kvot sökande som inte är behöriga på något av dessa två sätt, men som vi bedömer ändå har en möjlighet att klara av utbildningen. Den bedömningen gör vår ledningsgrupp efter förslag från oss.',\n",
       " 'Du måste inte göra provet, men om du inte gör det, missar du en chans att skaffa dig poäng i urvalet och rangordningen. Om du inte deltar, är du ändå så klart med som sökande men riskerar att hamna långt ner i rankingen. Du kan inte få några ”minuspoäng” i proven, du kan bara förbättra dina chanser.': 'När får vi svar om antagning?',\n",
       " 'Svar om antagning förväntas skickas ut runt midsommar.': 'Vad händer om jag blir reserv?',\n",
       " 'I så fall kan du bli erbjuden en plats senare, egentligen när som helst någon vecka efter antagning, fram till utbildningens start. Det händer till och med att vi tar studenter någon vecka efter att utbildningen har startat, för att fylla platser som eventuellt blir tomma om någon inte dyker upp vid utbildningsstart. Hur chanserna är att komma in som reserv är omöjligt att svara på, det beror på vilka beslut de först antagna gör. Men normalt är det flera reserver som får chansen.': 'Gäller reglerna för behörighet och urval bara hos er?',\n",
       " 'Samtliga de regler som anges ovan om behörighet och urval är generella för alla utbildningsanordnare som har YH-utbildningar. Det är samma regler som gäller. Det som kan skilja åt är dels vilka särskilda behörighetskrav som gäller (utöver allmän behörighet), dels vilka kriterier som används vid urvalet.': 'Får man hjälp att hitta LiA-plats? Har ni samarbete med företag?',\n",
       " 'Det är vårt ansvar att du har en LIA-plats, men det är du som får göra jobbet, ta kontakt, presentera dig, sälja in dig. Vi ger dig stöd i hur man bör gå till väga, coaching under processen, tips på företag, listor med tidigare LIA-handledare etc. Vi har ett nätverk av företag som har sagt sig villiga att ta emot studenter, men saker och ting kan förändras i företagen. Det finns inga ”färdiga” platser som väntar på just dig. Företagen vill också utan undantag att studenterna själva ska kunna ta kontakt.': 'Kan man göra sin LiA var som helst?',\n",
       " 'Ja, så länge du får arbetsuppgifter som stämmer med målen i kursplanen (utbildningens inriktning) och det finns en utsedd handledare som vet vad LIA innebär. Den geografiska platsen har då ingen betydelse': 'Kostar det något?',\n",
       " 'Alla våra YH-utbildningar är gratis. Det finns inga kursavgifter. Däremot måste du själv köpa din kurslitteratur. Och vill du ha en LIA-plats på en annan ort och därmed får ökade kostnader, t ex för att du behöver en bärbar dator, får du lösa det själv.': 'Kan jag jobba samtidigt?',\n",
       " 'Om du studerar på någon av våra YH-program rekommenderar vi att du har fullt fokus på studierna men det går att arbeta vid sidan av under vissa perioder. Våra program är heltidsutbildningar (40 tim/vecka) som kräver din närvaro vid schemalagd undervisning i snitt 16–18 timmar per vecka beroende på utbildning. Övrig tid arbetar du självständigt eller i grupp som du kan planera själv. Under lärande i arbete, LIA, följer du de arbetstider som gäller på företaget vilket är en 40 timmars arbetsvecka.': 'Om du studerar på våra YH-kurser så är de deltidsutbildningar på distans med schemalagda livelektioner 3 timmar per vecka. På så sätt kan du enklare kombinera studier med jobb. Utöver lektionerna sker även handledning och frågestunder.',\n",
       " 'Distans med fysiska träffar, vad betyder det?': 'Om du studerar på någon av våra distansutbildningar kan du studera oavsett var du befinner dig med undantag för 4-6 fysiska träffar på studieorten. Distansutbildningarna är inte oberoende av tid vilket innebär att vi har schemalagd undervisning 16-18 timmar per vecka beroende på utbildning. Övrig tid arbetar du självständigt eller i grupp. Under lärande i arbete, LIA, följer du de arbetstider som gäller på företaget. Ta reda på vad som gäller för just den utbildning du är intresserad av genom att läsa på utbildningssidan under fliken ”fakta”.',\n",
       " 'Om du studerar på våra YH-kurser så är de på distans och har ett flexibelt upplägg vilket gör det möjligt att kombinera studier med arbete samt att studera oavsett var man bor eller befinner sig. Kurserna har schemalagda livelektioner 3 timmar samt handledning och frågestunder. I övrigt planerar du din egen tid.': 'Behöver jag egen dator?',\n",
       " 'För att kunna ta del av utbildningsmaterial, skriva tentamen och delta i undervisningen så behöver du ha tillgång till en egen dator. I nuläget rekommenderar vi en dator som uppfyller minst följande krav:': 'Behöver jag skaffa några programvaror inför utbildningen?'}"
      ]
     },
     "execution_count": 4,
     "metadata": {},
     "output_type": "execute_result"
    }
   ],
   "source": [
    "faq_scraper = FaqScraper()\n",
    "faq = faq_scraper.faq\n",
    "faq = [qa for qa in faq if qa != \"\\xa0\"]\n",
    "faq_dict = {faq[i]: faq[i + 1] for i in range(0, len(faq) - len(faq) % 2, 2)}\n",
    "faq_dict"
   ]
  },
  {
   "cell_type": "code",
   "execution_count": null,
   "metadata": {},
   "outputs": [],
   "source": []
  }
 ],
 "metadata": {
  "kernelspec": {
   "display_name": "Python 3",
   "language": "python",
   "name": "python3"
  },
  "language_info": {
   "codemirror_mode": {
    "name": "ipython",
    "version": 3
   },
   "file_extension": ".py",
   "mimetype": "text/x-python",
   "name": "python",
   "nbconvert_exporter": "python",
   "pygments_lexer": "ipython3",
   "version": "3.11.7"
  }
 },
 "nbformat": 4,
 "nbformat_minor": 2
}
