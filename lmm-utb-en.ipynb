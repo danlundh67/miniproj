{
 "cells": [
  {
   "cell_type": "code",
   "execution_count": null,
   "metadata": {},
   "outputs": [],
   "source": [
    "import json\n",
    "import requests\n",
    "from dotenv import load_dotenv\n",
    "from pathlib import Path\n",
    "import os\n",
    "\n",
    "load_dotenv(Path()/\"../.env\")\n",
    "api_key = os.getenv(\"EDEN_API\")\n",
    "\n",
    "# chatbot_global_action = \"\"\"\n",
    "# Agera som om du vore anställd marknadsförare inom en skola. Denna skola\n",
    "# har utbildningar inom tech/IT och handelsrelaterade ämnen såsom inköp,\n",
    "# paralegal och supply chain. Målgruppen är potentiella studenter.\n",
    "# \"\"\"\n",
    "\n",
    "headers = {\"Authorization\": f\"Bearer {api_key}\"}\n",
    "\n",
    "\n",
    "def chat(prompt, provider=\"perplexityai\", model=\"mixtral-8x7b-instruct\"):\n",
    "    headers = {\"Authorization\": f\"Bearer {api_key}\"}\n",
    "\n",
    "    url = \"https://api.edenai.run/v2/text/chat\"\n",
    "    payload = {\n",
    "        # \"providers\": \"openai\",\n",
    "        # \"model\": \"gpt-4\",\n",
    "        \"providers\": provider,\n",
    "        \"model\": model,\n",
    "        \"text\": prompt,\n",
    "        \"chatbot_global_action\": \"Act as an assistant\",\n",
    "        \"previous_history\": [], # add history to give the model memory\n",
    "        \"temperature\": 0.5, # temperature to control creativity\n",
    "        \"max_tokens\": 500,\n",
    "        \"fallback_providers\": \"perplexityai\",\n",
    "    }\n",
    "\n",
    "    response = requests.post(url, json=payload, headers=headers)\n",
    "\n",
    "    result = json.loads(response.text)\n",
    "    return result[provider][\"generated_text\"]"
   ]
  },
  {
   "cell_type": "code",
   "execution_count": null,
   "metadata": {},
   "outputs": [],
   "source": [
    "with open(\"../data/programmering-med-ai-kompetens.txt\", \"r\") as file:\n",
    "    raw_text = file.read()\n",
    "\n",
    "print(raw_text)"
   ]
  },
  {
   "cell_type": "code",
   "execution_count": null,
   "metadata": {},
   "outputs": [],
   "source": [
    "summary_opa = chat(\n",
    "    f\"\"\"kan du sammanfatta den här texten i max en paragraf \n",
    "    {raw_text}\n",
    "\n",
    "    Formattera svaret enligt nedan exempel\n",
    "    '''\n",
    "    Texten beskriver AI och utbildning ...\n",
    "\n",
    "    Några viktiga delar är:\n",
    "    - punkt 1 \n",
    "    - punkt 2\n",
    "    - ... \n",
    "\n",
    "    '''\n",
    "\n",
    "    \"\"\",\n",
    "    provider=\"openai\",\n",
    "    model=\"gpt-3.5-turbo\",\n",
    ")\n",
    "\n",
    "print(summary_opa)"
   ]
  },
  {
   "cell_type": "code",
   "execution_count": null,
   "metadata": {},
   "outputs": [],
   "source": [
    "learn_opa = chat(\n",
    "    f\"'''{raw_text}'''\\n\\nVad får man lära sig här? Beskriv kort i punktformat. Lägg också till radbrytningar mellan varje punkt.\",\n",
    "    provider=\"openai\",\n",
    "    model=\"gpt-3.5-turbo\",\n",
    ")\n",
    "print(learn_opa)"
   ]
  },
  {
   "cell_type": "code",
   "execution_count": null,
   "metadata": {},
   "outputs": [],
   "source": [
    "contacts = chat(\n",
    "    f\"\"\"Vilka ska man kontakta om man är intresserad av utbildningen? '''{raw_text}''' \n",
    "    \n",
    "    Formatera i en lista på kontakter\n",
    "    \"\"\",\n",
    "    provider=\"openai\",\n",
    "    model=\"gpt-3.5-turbo\",\n",
    ")"
   ]
  },
  {
   "cell_type": "code",
   "execution_count": null,
   "metadata": {},
   "outputs": [],
   "source": [
    "print(contacts)"
   ]
  },
  {
   "cell_type": "code",
   "execution_count": null,
   "metadata": {},
   "outputs": [],
   "source": [
    "contacts_table= chat(\n",
    "    f\"\"\"Vilka ska man kontakta om man är intresserad av utbildningen? '''{raw_text}''' \n",
    "    \n",
    "    Formatera i en markdowntabell med kolumnerna: Kontakt, Mail, Telefon\n",
    "    \"\"\",\n",
    "    provider=\"openai\",\n",
    "    model=\"gpt-3.5-turbo\",\n",
    ")\n",
    "contacts_table"
   ]
  },
  {
   "cell_type": "code",
   "execution_count": null,
   "metadata": {},
   "outputs": [],
   "source": [
    "contacts_df= chat(\n",
    "    f\"\"\"Vilka ska man kontakta om man är intresserad av utbildningen? '''{raw_text}''' \n",
    "    \n",
    "    Formatera i en pandas dataframe med kolumnerna: Kontakt, Mail, Telefon\n",
    "    \"\"\",\n",
    "    provider=\"openai\",\n",
    "    model=\"gpt-3.5-turbo\",\n",
    ")\n",
    "\n",
    "contacts_df"
   ]
  },
  {
   "cell_type": "code",
   "execution_count": null,
   "metadata": {},
   "outputs": [],
   "source": [
    "print(\n",
    "    chat(\n",
    "        \"show me an example of python code to create a pandas dataframe from a markdown table\",\n",
    "        provider=\"openai\",\n",
    "        model=\"gpt-3.5-turbo\",\n",
    "    )\n",
    ")"
   ]
  },
  {
   "cell_type": "code",
   "execution_count": null,
   "metadata": {},
   "outputs": [],
   "source": [
    "from utils.scraper import FaqScraper\n",
    "\n",
    "faq = FaqScraper()\n",
    "faq"
   ]
  },
  {
   "cell_type": "code",
   "execution_count": null,
   "metadata": {},
   "outputs": [],
   "source": [
    "faq_list = faq.faq\n",
    "faq_list"
   ]
  },
  {
   "cell_type": "code",
   "execution_count": null,
   "metadata": {},
   "outputs": [],
   "source": [
    "questions = [text for text in faq_list if \"?\" in text]\n",
    "questions"
   ]
  },
  {
   "cell_type": "code",
   "execution_count": null,
   "metadata": {},
   "outputs": [],
   "source": [
    "chat(\n",
    "    f\"\"\"Från denna lista med frågor \n",
    "    '''\n",
    "    {questions}\n",
    "    '''\n",
    "\n",
    "    Ta fram frågan som är mest lik denna fråga:\n",
    "\n",
    "    '''\n",
    "    Hur mycket kostar det att plugga era utbildningar?\n",
    "    '''\n",
    "\n",
    "\n",
    "    \"\"\",\n",
    "    provider=\"openai\",\n",
    "    model=\"gpt-3.5-turbo\",\n",
    ")\n",
    "\n",
    "# now from this we could extract the answer \n",
    "# also to be more robust we should prompt it to answer in certain format to get repeatability"
   ]
  }
 ],
 "metadata": {
  "language_info": {
   "name": "python"
  }
 },
 "nbformat": 4,
 "nbformat_minor": 2
}
